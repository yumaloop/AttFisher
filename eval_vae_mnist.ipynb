{
 "cells": [
  {
   "cell_type": "code",
   "execution_count": 1,
   "metadata": {},
   "outputs": [
    {
     "name": "stderr",
     "output_type": "stream",
     "text": [
      "Using TensorFlow backend.\n"
     ]
    }
   ],
   "source": [
    "import numpy as np\n",
    "import tensorflow as tf\n",
    "import keras.backend as K\n",
    "\n",
    "from tqdm import tqdm_notebook as tqdm\n",
    "\n",
    "import matplotlib.pyplot as plt\n",
    "%matplotlib inline"
   ]
  },
  {
   "cell_type": "code",
   "execution_count": 2,
   "metadata": {},
   "outputs": [
    {
     "name": "stdout",
     "output_type": "stream",
     "text": [
      "合計 106716\r\n",
      "-rw-rw-r-- 1 uchiumi uchiumi   761336  6月 26 00:27 lenet5_mnist.h5\r\n",
      "-rw-rw-r-- 1 uchiumi uchiumi  7264736  6月 10 11:56 trained_cnn_v0.h5\r\n",
      "-rw-rw-r-- 1 uchiumi uchiumi  4965880  6月  9 23:35 vae_mnist.h5\r\n",
      "-rw-rw-r-- 1 uchiumi uchiumi 23147968  6月 11 02:36 vae_stl10_epoch100.h5\r\n",
      "-rw-rw-r-- 1 uchiumi uchiumi 73127096  6月 11 14:02 vgg16_stl10_v0.h5\r\n"
     ]
    }
   ],
   "source": [
    "!ls -l trained_model/"
   ]
  },
  {
   "cell_type": "code",
   "execution_count": 3,
   "metadata": {},
   "outputs": [],
   "source": [
    "(x_train, y_train), (x_test, y_test) = tf.keras.datasets.mnist.load_data()\n",
    "\n",
    "x_train = x_train.astype('float32') / 255.\n",
    "x_test = x_test.astype('float32') / 255."
   ]
  },
  {
   "cell_type": "code",
   "execution_count": 4,
   "metadata": {},
   "outputs": [
    {
     "name": "stdout",
     "output_type": "stream",
     "text": [
      "Fri Jun 26 11:29:49 2020       \r\n",
      "+-----------------------------------------------------------------------------+\r\n",
      "| NVIDIA-SMI 418.87.01    Driver Version: 418.87.01    CUDA Version: 10.1     |\r\n",
      "|-------------------------------+----------------------+----------------------+\r\n",
      "| GPU  Name        Persistence-M| Bus-Id        Disp.A | Volatile Uncorr. ECC |\r\n",
      "| Fan  Temp  Perf  Pwr:Usage/Cap|         Memory-Usage | GPU-Util  Compute M. |\r\n",
      "|===============================+======================+======================|\r\n",
      "|   0  GeForce GTX 1080    Off  | 00000000:01:00.0 Off |                  N/A |\r\n",
      "| 39%   54C    P0    48W / 200W |    184MiB /  8118MiB |      0%      Default |\r\n",
      "+-------------------------------+----------------------+----------------------+\r\n",
      "                                                                               \r\n",
      "+-----------------------------------------------------------------------------+\r\n",
      "| Processes:                                                       GPU Memory |\r\n",
      "|  GPU       PID   Type   Process name                             Usage      |\r\n",
      "|=============================================================================|\r\n",
      "|    0      1107      G   /usr/lib/xorg/Xorg                            65MiB |\r\n",
      "|    0      2994      G   compiz                                       116MiB |\r\n",
      "+-----------------------------------------------------------------------------+\r\n"
     ]
    }
   ],
   "source": [
    "!nvidia-smi"
   ]
  },
  {
   "cell_type": "code",
   "execution_count": 5,
   "metadata": {},
   "outputs": [
    {
     "name": "stdout",
     "output_type": "stream",
     "text": [
      "WARNING:tensorflow:From /home/uchiumi/.local/lib/python3.6/site-packages/tensorflow/python/ops/resource_variable_ops.py:435: colocate_with (from tensorflow.python.framework.ops) is deprecated and will be removed in a future version.\n",
      "Instructions for updating:\n",
      "Colocations handled automatically by placer.\n",
      "__________________________________________________________________________________________________\n",
      "Layer (type)                    Output Shape         Param #     Connected to                     \n",
      "==================================================================================================\n",
      "input_1 (InputLayer)            (None, 784)          0                                            \n",
      "__________________________________________________________________________________________________\n",
      "dense_1 (Dense)                 (None, 256)          200960      input_1[0][0]                    \n",
      "__________________________________________________________________________________________________\n",
      "dense_2 (Dense)                 (None, 10)           2570        dense_1[0][0]                    \n",
      "__________________________________________________________________________________________________\n",
      "dense_3 (Dense)                 (None, 10)           2570        dense_1[0][0]                    \n",
      "__________________________________________________________________________________________________\n",
      "lambda_1 (Lambda)               (None, 10)           0           dense_2[0][0]                    \n",
      "                                                                 dense_3[0][0]                    \n",
      "__________________________________________________________________________________________________\n",
      "dense_4 (Dense)                 (None, 256)          2816        lambda_1[0][0]                   \n",
      "__________________________________________________________________________________________________\n",
      "dense_5 (Dense)                 (None, 784)          201488      dense_4[0][0]                    \n",
      "==================================================================================================\n",
      "Total params: 410,404\n",
      "Trainable params: 410,404\n",
      "Non-trainable params: 0\n",
      "__________________________________________________________________________________________________\n"
     ]
    }
   ],
   "source": [
    "with tf.keras.utils.CustomObjectScope({'GlorotUniform': tf.keras.initializers.glorot_uniform()}):\n",
    "    model = tf.keras.models.load_model('trained_model/vae_mnist.h5', compile=False)\n",
    "    model.summary()"
   ]
  },
  {
   "cell_type": "markdown",
   "metadata": {},
   "source": [
    "# Eval"
   ]
  },
  {
   "cell_type": "code",
   "execution_count": 6,
   "metadata": {},
   "outputs": [
    {
     "data": {
      "image/png": "[encoded data removed]",
      "text/plain": [
       "<Figure size 432x288 with 1 Axes>"
      ]
     },
     "metadata": {
      "needs_background": "light"
     },
     "output_type": "display_data"
    }
   ],
   "source": [
    "idx=0\n",
    "plt.imshow(x_train[idx].reshape(28,28), \"gray\")\n",
    "plt.show()"
   ]
  },
  {
   "cell_type": "code",
   "execution_count": 7,
   "metadata": {},
   "outputs": [
    {
     "data": {
      "image/png": "[encoded data removed]",
      "text/plain": [
       "<Figure size 432x288 with 1 Axes>"
      ]
     },
     "metadata": {
      "needs_background": "light"
     },
     "output_type": "display_data"
    }
   ],
   "source": [
    "idx=1\n",
    "plt.imshow(x_train[idx].reshape(28,28), \"gray\")\n",
    "plt.show()"
   ]
  },
  {
   "cell_type": "markdown",
   "metadata": {},
   "source": [
    "# Experiments 0623"
   ]
  },
  {
   "cell_type": "code",
   "execution_count": 8,
   "metadata": {},
   "outputs": [],
   "source": [
    "def calc_eig(matrix):\n",
    "    eig_values, eig_vectors = np.linalg.eigh(matrix)\n",
    "    \n",
    "    eig_values = eig_values.astype(np.float32)\n",
    "    eig_vectors = eig_vectors.astype(np.float32)\n",
    "\n",
    "    for i in range(len(eig_vectors)):\n",
    "        eig_vectors[i] = eig_vectors[i] / np.linalg.norm(eig_vectors[i], ord=2)\n",
    "\n",
    "    return eig_values, eig_vectors"
   ]
  },
  {
   "cell_type": "code",
   "execution_count": 9,
   "metadata": {},
   "outputs": [],
   "source": [
    "def calc_max_eig_vector(matrix):\n",
    "    eig_values, eig_vectors = np.linalg.eigh(matrix)\n",
    "    \n",
    "    eig_values = eig_values.astype(np.float32)\n",
    "    eig_vectors = eig_vectors.astype(np.float32)\n",
    "\n",
    "    for i in range(len(eig_vectors)):\n",
    "        eig_vectors[i] = eig_vectors[i] / np.linalg.norm(eig_vectors[i], ord=2)\n",
    "\n",
    "    max_eig_vector = eig_vectors[np.argmax(eig_values)]\n",
    "    return max_eig_vector"
   ]
  },
  {
   "cell_type": "code",
   "execution_count": 10,
   "metadata": {},
   "outputs": [
    {
     "name": "stderr",
     "output_type": "stream",
     "text": [
      "/usr/local/lib/python3.6/dist-packages/ipykernel_launcher.py:4: TqdmDeprecationWarning: This function will be removed in tqdm==5.0.0\n",
      "Please use `tqdm.notebook.tqdm` instead of `tqdm.tqdm_notebook`\n",
      "  after removing the cwd from sys.path.\n"
     ]
    },
    {
     "data": {
      "application/vnd.jupyter.widget-view+json": {
       "model_id": "a96e05eb7ef94588b78a0eabf1df5692",
       "version_major": 2,
       "version_minor": 0
      },
      "text/plain": [
       "HBox(children=(IntProgress(value=0, max=40), HTML(value='')))"
      ]
     },
     "metadata": {},
     "output_type": "display_data"
    },
    {
     "name": "stdout",
     "output_type": "stream",
     "text": [
      "WARNING:tensorflow:From /home/uchiumi/.local/lib/python3.6/site-packages/tensorflow/python/ops/math_ops.py:3066: to_int32 (from tensorflow.python.ops.math_ops) is deprecated and will be removed in a future version.\n",
      "Instructions for updating:\n",
      "Use tf.cast instead.\n",
      "\n"
     ]
    }
   ],
   "source": [
    "batch_size=250\n",
    "gradients = np.zeros((10, 784))\n",
    "\n",
    "for i, idx in enumerate(tqdm(range(int(len(x_test)/batch_size)))):\n",
    "    x_true = x_train[idx:idx+batch_size].reshape(batch_size, 784)\n",
    "    y_true = x_true\n",
    "    y_pred = model.output\n",
    "\n",
    "    init = tf.global_variables_initializer()\n",
    "    loss = tf.keras.losses.mse(y_true, y_pred)\n",
    "    get_grad = K.gradients(loss, model.input)\n",
    "\n",
    "    sess = K.get_session()\n",
    "    sess.run(init)\n",
    "    gradient = sess.run(get_grad[0], feed_dict={model.input: x_true})\n",
    "    gradient = np.squeeze(gradient.mean(axis=0))\n",
    "    \n",
    "    gradients[y_test[idx]] = 1/(i+1)*gradient + i/(i+1)*gradients[y_test[idx]]"
   ]
  },
  {
   "cell_type": "code",
   "execution_count": 11,
   "metadata": {},
   "outputs": [],
   "source": [
    "hessian_matrices = np.zeros((10, 784, 784))\n",
    "for c in range(10):\n",
    "    hessian_matrices[c] = np.outer(gradient[c], gradient[c])"
   ]
  },
  {
   "cell_type": "code",
   "execution_count": 12,
   "metadata": {},
   "outputs": [],
   "source": [
    "max_eigs = np.zeros((10, 784))\n",
    "for c in range(10):\n",
    "    max_eigs[c] = calc_max_eig_vector(hessian_matrices[c])"
   ]
  },
  {
   "cell_type": "code",
   "execution_count": null,
   "metadata": {},
   "outputs": [],
   "source": []
  },
  {
   "cell_type": "code",
   "execution_count": null,
   "metadata": {},
   "outputs": [],
   "source": []
  },
  {
   "cell_type": "code",
   "execution_count": null,
   "metadata": {},
   "outputs": [],
   "source": []
  },
  {
   "cell_type": "code",
   "execution_count": 13,
   "metadata": {},
   "outputs": [
    {
     "name": "stdout",
     "output_type": "stream",
     "text": [
      "max_eig\n"
     ]
    },
    {
     "data": {
      "image/png": "[encoded data removed]",
      "text/plain": [
       "<Figure size 432x288 with 1 Axes>"
      ]
     },
     "metadata": {
      "needs_background": "light"
     },
     "output_type": "display_data"
    },
    {
     "name": "stdout",
     "output_type": "stream",
     "text": [
      "Original  label:6\n"
     ]
    },
    {
     "data": {
      "image/png": "[encoded data removed]",
      "text/plain": [
       "<Figure size 432x288 with 1 Axes>"
      ]
     },
     "metadata": {
      "needs_background": "light"
     },
     "output_type": "display_data"
    },
    {
     "name": "stdout",
     "output_type": "stream",
     "text": [
      "(original + max_eig) / 2\n"
     ]
    },
    {
     "data": {
      "image/png": "[encoded data removed]",
      "text/plain": [
       "<Figure size 432x288 with 1 Axes>"
      ]
     },
     "metadata": {
      "needs_background": "light"
     },
     "output_type": "display_data"
    },
    {
     "name": "stdout",
     "output_type": "stream",
     "text": [
      "(original + max_eig) / 2 - original\n"
     ]
    },
    {
     "data": {
      "image/png": "[encoded data removed]",
      "text/plain": [
       "<Figure size 432x288 with 1 Axes>"
      ]
     },
     "metadata": {
      "needs_background": "light"
     },
     "output_type": "display_data"
    },
    {
     "name": "stdout",
     "output_type": "stream",
     "text": [
      "att. map\n"
     ]
    },
    {
     "data": {
      "image/png": "[encoded data removed]",
      "text/plain": [
       "<Figure size 432x288 with 1 Axes>"
      ]
     },
     "metadata": {
      "needs_background": "light"
     },
     "output_type": "display_data"
    },
    {
     "name": "stdout",
     "output_type": "stream",
     "text": [
      "recon. (original + max_eig)\n"
     ]
    },
    {
     "data": {
      "image/png": "[encoded data removed]",
      "text/plain": [
       "<Figure size 432x288 with 1 Axes>"
      ]
     },
     "metadata": {
      "needs_background": "light"
     },
     "output_type": "display_data"
    }
   ],
   "source": [
    "#============\n",
    "idx=3000\n",
    "NUM_ATT=100\n",
    "#============\n",
    "\n",
    "eig_vec = max_eigs[y_test[idx]].reshape(28, 28)\n",
    "x_pred  = model.predict(x_test[idx].reshape(1, 784)).reshape(28, 28)\n",
    "x_pred_mov = model.predict(((x_test[idx] + eig_vec) / 2).reshape(1, 784)).reshape(28, 28)\n",
    "\n",
    "print(\"max_eig\")\n",
    "plt.imshow(eig_vec.reshape(28,28), \"gray\")\n",
    "plt.show()\n",
    "\n",
    "print(\"Original \", \"label:\"+str(y_test[idx]))\n",
    "plt.imshow(x_pred.reshape(28,28), \"gray\")\n",
    "plt.show()\n",
    "\n",
    "print(\"(original + max_eig) / 2\")\n",
    "plt.imshow(((x_test[idx] + eig_vec)/2).reshape(28,28), \"gray\")\n",
    "plt.show()\n",
    "\n",
    "print(\"(original + max_eig) / 2 - original\")\n",
    "plt.imshow(((x_test[idx] + eig_vec)/2 - x_pred).reshape(28,28), \"gray\")\n",
    "plt.show()\n",
    "\n",
    "print(\"att. map\")\n",
    "tmp = (x_test[idx] + eig_vec) / 2 - x_pred\n",
    "threshold = sorted(list(tmp.reshape(-1)))[-NUM_ATT]\n",
    "att_map = np.where(tmp > threshold, tmp, 0)\n",
    "plt.imshow(att_map, \"gray\")\n",
    "plt.show()\n",
    "\n",
    "print(\"recon. (original + max_eig)\")\n",
    "plt.imshow(x_pred_mov.reshape(28,28), \"gray\")\n",
    "plt.show()"
   ]
  },
  {
   "cell_type": "code",
   "execution_count": null,
   "metadata": {},
   "outputs": [],
   "source": []
  },
  {
   "cell_type": "code",
   "execution_count": null,
   "metadata": {},
   "outputs": [],
   "source": []
  },
  {
   "cell_type": "code",
   "execution_count": null,
   "metadata": {},
   "outputs": [],
   "source": []
  },
  {
   "cell_type": "code",
   "execution_count": null,
   "metadata": {},
   "outputs": [],
   "source": []
  },
  {
   "cell_type": "code",
   "execution_count": null,
   "metadata": {},
   "outputs": [],
   "source": []
  },
  {
   "cell_type": "code",
   "execution_count": null,
   "metadata": {},
   "outputs": [],
   "source": []
  },
  {
   "cell_type": "code",
   "execution_count": null,
   "metadata": {},
   "outputs": [],
   "source": []
  },
  {
   "cell_type": "code",
   "execution_count": null,
   "metadata": {},
   "outputs": [],
   "source": []
  },
  {
   "cell_type": "code",
   "execution_count": null,
   "metadata": {},
   "outputs": [],
   "source": []
  },
  {
   "cell_type": "code",
   "execution_count": null,
   "metadata": {},
   "outputs": [],
   "source": []
  },
  {
   "cell_type": "code",
   "execution_count": null,
   "metadata": {},
   "outputs": [],
   "source": []
  },
  {
   "cell_type": "code",
   "execution_count": null,
   "metadata": {},
   "outputs": [],
   "source": []
  },
  {
   "cell_type": "code",
   "execution_count": null,
   "metadata": {},
   "outputs": [],
   "source": []
  },
  {
   "cell_type": "code",
   "execution_count": null,
   "metadata": {},
   "outputs": [],
   "source": []
  },
  {
   "cell_type": "code",
   "execution_count": null,
   "metadata": {},
   "outputs": [],
   "source": []
  },
  {
   "cell_type": "code",
   "execution_count": null,
   "metadata": {},
   "outputs": [],
   "source": []
  },
  {
   "cell_type": "code",
   "execution_count": 18,
   "metadata": {},
   "outputs": [],
   "source": [
    "\n"
   ]
  },
  {
   "cell_type": "code",
   "execution_count": 14,
   "metadata": {},
   "outputs": [
    {
     "name": "stdout",
     "output_type": "stream",
     "text": [
      "max_eig\n"
     ]
    },
    {
     "data": {
      "image/png": "[encoded data removed]",
      "text/plain": [
       "<Figure size 432x288 with 1 Axes>"
      ]
     },
     "metadata": {
      "needs_background": "light"
     },
     "output_type": "display_data"
    },
    {
     "name": "stdout",
     "output_type": "stream",
     "text": [
      "Original  label:6\n"
     ]
    },
    {
     "data": {
      "image/png": "[encoded data removed]",
      "text/plain": [
       "<Figure size 432x288 with 1 Axes>"
      ]
     },
     "metadata": {
      "needs_background": "light"
     },
     "output_type": "display_data"
    },
    {
     "name": "stdout",
     "output_type": "stream",
     "text": [
      "(original + max_eig) / 2\n"
     ]
    },
    {
     "data": {
      "image/png": "[encoded data removed]",
      "text/plain": [
       "<Figure size 432x288 with 1 Axes>"
      ]
     },
     "metadata": {
      "needs_background": "light"
     },
     "output_type": "display_data"
    },
    {
     "name": "stdout",
     "output_type": "stream",
     "text": [
      "(original + max_eig) / 2 - original\n"
     ]
    },
    {
     "data": {
      "image/png": "[encoded data removed]",
      "text/plain": [
       "<Figure size 432x288 with 1 Axes>"
      ]
     },
     "metadata": {
      "needs_background": "light"
     },
     "output_type": "display_data"
    },
    {
     "name": "stdout",
     "output_type": "stream",
     "text": [
      "att. map\n"
     ]
    },
    {
     "data": {
      "image/png": "[encoded data removed]",
      "text/plain": [
       "<Figure size 432x288 with 1 Axes>"
      ]
     },
     "metadata": {
      "needs_background": "light"
     },
     "output_type": "display_data"
    },
    {
     "name": "stdout",
     "output_type": "stream",
     "text": [
      "recon. (original + max_eig)\n"
     ]
    },
    {
     "data": {
      "image/png": "[encoded data removed]",
      "text/plain": [
       "<Figure size 432x288 with 1 Axes>"
      ]
     },
     "metadata": {
      "needs_background": "light"
     },
     "output_type": "display_data"
    }
   ],
   "source": [
    "#============\n",
    "idx = 3000\n",
    "NUM_ATT=10\n",
    "#============\n",
    "\n",
    "\n",
    "x_true = x_train[idx].reshape(1, 784)\n",
    "y_true = x_true\n",
    "y_pred = model.output\n",
    "\n",
    "init = tf.global_variables_initializer()\n",
    "loss = tf.keras.losses.mse(y_true, y_pred)\n",
    "get_grad = K.gradients(loss, model.input)\n",
    "\n",
    "sess = K.get_session()\n",
    "sess.run(init)\n",
    "gradient = sess.run(get_grad[0], feed_dict={model.input: x_true})\n",
    "gradient = np.squeeze(gradient.mean(axis=0))\n",
    "hessian  = np.outer(gradient, gradient)\n",
    "max_eig = calc_max_eig_vector(hessian)\n",
    "\n",
    "# ----\n",
    "\n",
    "eig_vec = max_eig.reshape(28, 28)\n",
    "x_pred  = model.predict(x_test[idx].reshape(1, 784)).reshape(28, 28)\n",
    "x_pred_mov = model.predict(((x_test[idx] + eig_vec) / 2).reshape(1, 784)).reshape(28, 28)\n",
    "\n",
    "print(\"max_eig\")\n",
    "plt.imshow(eig_vec.reshape(28,28), \"gray\")\n",
    "plt.show()\n",
    "\n",
    "print(\"Original \", \"label:\"+str(y_test[idx]))\n",
    "plt.imshow(x_pred.reshape(28,28), \"gray\")\n",
    "plt.show()\n",
    "\n",
    "print(\"(original + max_eig) / 2\")\n",
    "plt.imshow(((x_test[idx] + eig_vec)/2).reshape(28,28), \"gray\")\n",
    "plt.show()\n",
    "\n",
    "print(\"(original + max_eig) / 2 - original\")\n",
    "plt.imshow(((x_test[idx] + eig_vec)/2 - x_pred).reshape(28,28), \"gray\")\n",
    "plt.show()\n",
    "\n",
    "print(\"att. map\")\n",
    "tmp = (x_test[idx] + eig_vec) / 2 - x_pred\n",
    "threshold = sorted(list(tmp.reshape(-1)))[-NUM_ATT]\n",
    "att_map = np.where(tmp > threshold, tmp, 0)\n",
    "plt.imshow(att_map, \"gray\")\n",
    "plt.show()\n",
    "\n",
    "print(\"recon. (original + max_eig)\")\n",
    "plt.imshow(x_pred_mov.reshape(28,28), \"gray\")\n",
    "plt.show()"
   ]
  },
  {
   "cell_type": "code",
   "execution_count": 113,
   "metadata": {},
   "outputs": [
    {
     "name": "stderr",
     "output_type": "stream",
     "text": [
      "/usr/local/lib/python3.6/dist-packages/ipykernel_launcher.py:74: UserWarning: Matplotlib is currently using module://ipykernel.pylab.backend_inline, which is a non-GUI backend, so cannot show the figure.\n"
     ]
    },
    {
     "data": {
      "image/png": "[encoded data removed]",
      "text/plain": [
       "<Figure size 1152x720 with 8 Axes>"
      ]
     },
     "metadata": {
      "needs_background": "light"
     },
     "output_type": "display_data"
    }
   ],
   "source": [
    "#============\n",
    "idx = 10\n",
    "NUM_ATT=10\n",
    "#============\n",
    "\n",
    "x_true = x_test[idx].reshape(1, 784)\n",
    "y_true = x_true\n",
    "y_pred = model.output\n",
    "\n",
    "init = tf.global_variables_initializer()\n",
    "loss = tf.keras.losses.mse(y_true, y_pred)\n",
    "get_grad = K.gradients(loss, model.input)\n",
    "\n",
    "sess = K.get_session()\n",
    "sess.run(init)\n",
    "gradient = sess.run(get_grad[0], feed_dict={model.input: x_true})\n",
    "gradient = np.squeeze(gradient)\n",
    "hessian  = np.outer(gradient, gradient)\n",
    "max_eig = calc_max_eig_vector(hessian)\n",
    "\n",
    "# ----\n",
    "\n",
    "eig_vec = max_eig.reshape(28, 28)\n",
    "x_true = x_test[idx].reshape(28,28)\n",
    "x_pred  = model.predict(x_test[idx].reshape(1, 784)).reshape(28, 28)\n",
    "x_pred_mov = model.predict(((x_true + eig_vec) / 2).reshape(1, 784)).reshape(28, 28)\n",
    "\n",
    "fig = plt.figure(figsize=(16,10))\n",
    "ax1 = fig.add_subplot(2, 4, 1)\n",
    "ax2 = fig.add_subplot(2, 4, 2)\n",
    "ax3 = fig.add_subplot(2, 4, 3)\n",
    "ax4 = fig.add_subplot(2, 4, 4)\n",
    "ax5 = fig.add_subplot(2, 4, 5)\n",
    "ax6 = fig.add_subplot(2, 4, 6)\n",
    "ax7 = fig.add_subplot(2, 4, 7)\n",
    "ax8 = fig.add_subplot(2, 4, 8)\n",
    "\n",
    "# top\n",
    "ax1.set_title(\"Original\")\n",
    "ax1.imshow(x_true, \"gray\")\n",
    "\n",
    "ax2.set_title(\"Recon. (Original)\")\n",
    "ax2.imshow(x_pred, \"gray\")\n",
    "\n",
    "ax3.set_title(\"MaxEig of FIM\")\n",
    "ax3.imshow(eig_vec.reshape(28,28), \"gray\")\n",
    "\n",
    "# (original + max_eig) / 2 - original\n",
    "ax4.set_title(\"Difference\")\n",
    "ax4.imshow(((x_true + eig_vec) / 2 - x_pred), \"gray\")\n",
    "\n",
    "# (original + max_eig) / 2\n",
    "ax5.set_title(\"Original + MaxEig\")\n",
    "ax5.imshow(((x_true + eig_vec) / 2), \"gray\")\n",
    "\n",
    "ax6.set_title(\"Recon. (Original + MaxEig)\")\n",
    "ax6.imshow(x_pred_mov, \"gray\")\n",
    "\n",
    "ax7.set_title(\"Att. Map (top {})\".format(NUM_ATT))\n",
    "tmp = (x_true + eig_vec) / 2 - x_pred\n",
    "threshold = sorted(list(tmp.reshape(-1)))[-NUM_ATT]\n",
    "att_map = np.where(tmp > threshold, tmp, 0)\n",
    "ax7.imshow(att_map, \"gray\")\n",
    "\n",
    "# (original + max_eig) / 2 - original\n",
    "ax8.set_title(\"Original + Att. Map\")\n",
    "ax8.imshow(((x_true + att_map)/2).reshape(28,28), \"gray\")\n",
    "\n",
    "\n",
    "# show plots\n",
    "fig.tight_layout()\n",
    "fig.suptitle(\"Identifying attended points based on FIM (MNIST test data No.{})\".format(idx), fontsize=18, y=1.)\n",
    "fig.show()\n",
    "fig.savefig(\"./figures/mnist_test{}.png\".format(idx))\n",
    "fig.savefig(\"./figures/mnist_test{}.svg\".format(idx))"
   ]
  },
  {
   "cell_type": "code",
   "execution_count": null,
   "metadata": {},
   "outputs": [],
   "source": []
  },
  {
   "cell_type": "code",
   "execution_count": null,
   "metadata": {},
   "outputs": [],
   "source": []
  },
  {
   "cell_type": "code",
   "execution_count": null,
   "metadata": {},
   "outputs": [],
   "source": []
  },
  {
   "cell_type": "code",
   "execution_count": null,
   "metadata": {},
   "outputs": [],
   "source": []
  },
  {
   "cell_type": "code",
   "execution_count": null,
   "metadata": {},
   "outputs": [],
   "source": []
  },
  {
   "cell_type": "code",
   "execution_count": null,
   "metadata": {},
   "outputs": [],
   "source": []
  },
  {
   "cell_type": "code",
   "execution_count": 123,
   "metadata": {},
   "outputs": [
    {
     "name": "stderr",
     "output_type": "stream",
     "text": [
      "/usr/local/lib/python3.6/dist-packages/ipykernel_launcher.py:15: TqdmDeprecationWarning: This function will be removed in tqdm==5.0.0\n",
      "Please use `tqdm.notebook.tqdm` instead of `tqdm.tqdm_notebook`\n",
      "  from ipykernel import kernelapp as app\n"
     ]
    },
    {
     "data": {
      "application/vnd.jupyter.widget-view+json": {
       "model_id": "00714919286d4508af64116740bfa39f",
       "version_major": 2,
       "version_minor": 0
      },
      "text/plain": [
       "HBox(children=(IntProgress(value=0, max=1000), HTML(value='')))"
      ]
     },
     "metadata": {},
     "output_type": "display_data"
    },
    {
     "name": "stdout",
     "output_type": "stream",
     "text": [
      "\n"
     ]
    },
    {
     "name": "stderr",
     "output_type": "stream",
     "text": [
      "/usr/local/lib/python3.6/dist-packages/ipykernel_launcher.py:79: UserWarning: Matplotlib is currently using module://ipykernel.pylab.backend_inline, which is a non-GUI backend, so cannot show the figure.\n"
     ]
    },
    {
     "data": {
      "image/png": "[encoded data removed]",
      "text/plain": [
       "<Figure size 1152x720 with 8 Axes>"
      ]
     },
     "metadata": {
      "needs_background": "light"
     },
     "output_type": "display_data"
    }
   ],
   "source": [
    "#============\n",
    "idx = 0\n",
    "NUM_ATT=10\n",
    "#============\n",
    "\n",
    "x_true = x_test[idx].reshape(1, 784)\n",
    "y_true = x_true\n",
    "y_pred = model.output\n",
    "\n",
    "init = tf.global_variables_initializer()\n",
    "loss = tf.keras.losses.mse(y_true, y_pred)\n",
    "get_grad = K.gradients(loss, model.input)\n",
    "\n",
    "num_iteration = 1000\n",
    "for i in tqdm(range(num_iteration)):\n",
    "    sess = K.get_session()\n",
    "    sess.run(init)\n",
    "    gradient_i = sess.run(get_grad[0], feed_dict={model.input: x_true})\n",
    "    gradient_i = np.squeeze(gradient_i)\n",
    "    gradient = 1/(i+1)*gradient_i + i/(i+1)*gradient    \n",
    "    \n",
    "hessian  = np.outer(gradient, gradient)\n",
    "max_eig = calc_max_eig_vector(hessian)\n",
    "\n",
    "# ---------------------------------\n",
    "# Plot figure\n",
    "# ---------------------------------\n",
    "\n",
    "eig_vec = max_eig.reshape(28, 28)\n",
    "x_true = x_test[idx].reshape(28,28)\n",
    "x_pred  = model.predict(x_test[idx].reshape(1, 784)).reshape(28, 28)\n",
    "x_pred_mov = model.predict(((x_true + eig_vec) / 2).reshape(1, 784)).reshape(28, 28)\n",
    "\n",
    "fig = plt.figure(figsize=(16,10))\n",
    "ax1 = fig.add_subplot(2, 4, 1)\n",
    "ax2 = fig.add_subplot(2, 4, 2)\n",
    "ax3 = fig.add_subplot(2, 4, 3)\n",
    "ax4 = fig.add_subplot(2, 4, 4)\n",
    "ax5 = fig.add_subplot(2, 4, 5)\n",
    "ax6 = fig.add_subplot(2, 4, 6)\n",
    "ax7 = fig.add_subplot(2, 4, 7)\n",
    "ax8 = fig.add_subplot(2, 4, 8)\n",
    "\n",
    "# top\n",
    "ax1.set_title(\"Original\")\n",
    "ax1.imshow(x_true, \"gray\")\n",
    "\n",
    "ax2.set_title(\"Recon. (Original)\")\n",
    "ax2.imshow(x_pred, \"gray\")\n",
    "\n",
    "ax3.set_title(\"MaxEig of FIM\")\n",
    "ax3.imshow(eig_vec.reshape(28,28), \"gray\")\n",
    "\n",
    "# (original + max_eig) / 2 - original\n",
    "ax4.set_title(\"Difference\")\n",
    "ax4.imshow(((x_true + eig_vec) / 2 - x_pred), \"gray\")\n",
    "\n",
    "# (original + max_eig) / 2\n",
    "ax5.set_title(\"Original + MaxEig\")\n",
    "ax5.imshow(((x_true + eig_vec) / 2), \"gray\")\n",
    "\n",
    "ax6.set_title(\"Recon. (Original + MaxEig)\")\n",
    "ax6.imshow(x_pred_mov, \"gray\")\n",
    "\n",
    "ax7.set_title(\"Att. Map (top {})\".format(NUM_ATT))\n",
    "tmp = (x_true + eig_vec) / 2 - x_pred\n",
    "threshold = sorted(list(tmp.reshape(-1)))[-NUM_ATT]\n",
    "att_map = np.where(tmp > threshold, tmp, 0)\n",
    "ax7.imshow(att_map, \"gray\")\n",
    "\n",
    "# (original + max_eig) / 2 - original\n",
    "ax8.set_title(\"Original + Att. Map\")\n",
    "ax8.imshow(((x_true + att_map)/2).reshape(28,28), \"gray\")\n",
    "\n",
    "\n",
    "# show plots\n",
    "fig.tight_layout()\n",
    "fig.suptitle(\"Identifying attended points based on FIM (MNIST test data No.{})\".format(idx), fontsize=18, y=1.)\n",
    "fig.show()\n",
    "fig.savefig(\"./figures/mnist_test{}.png\".format(idx))\n",
    "fig.savefig(\"./figures/mnist_test{}.svg\".format(idx))"
   ]
  },
  {
   "cell_type": "code",
   "execution_count": null,
   "metadata": {},
   "outputs": [],
   "source": []
  },
  {
   "cell_type": "code",
   "execution_count": null,
   "metadata": {},
   "outputs": [],
   "source": []
  },
  {
   "cell_type": "code",
   "execution_count": null,
   "metadata": {},
   "outputs": [],
   "source": []
  },
  {
   "cell_type": "code",
   "execution_count": null,
   "metadata": {},
   "outputs": [],
   "source": []
  },
  {
   "cell_type": "code",
   "execution_count": null,
   "metadata": {},
   "outputs": [],
   "source": []
  },
  {
   "cell_type": "code",
   "execution_count": null,
   "metadata": {},
   "outputs": [],
   "source": []
  },
  {
   "cell_type": "code",
   "execution_count": null,
   "metadata": {},
   "outputs": [],
   "source": []
  },
  {
   "cell_type": "code",
   "execution_count": null,
   "metadata": {},
   "outputs": [],
   "source": []
  },
  {
   "cell_type": "code",
   "execution_count": null,
   "metadata": {},
   "outputs": [],
   "source": []
  },
  {
   "cell_type": "code",
   "execution_count": null,
   "metadata": {},
   "outputs": [],
   "source": []
  },
  {
   "cell_type": "code",
   "execution_count": null,
   "metadata": {},
   "outputs": [],
   "source": []
  },
  {
   "cell_type": "code",
   "execution_count": null,
   "metadata": {},
   "outputs": [],
   "source": []
  },
  {
   "cell_type": "code",
   "execution_count": null,
   "metadata": {},
   "outputs": [],
   "source": []
  },
  {
   "cell_type": "code",
   "execution_count": null,
   "metadata": {},
   "outputs": [],
   "source": []
  },
  {
   "cell_type": "code",
   "execution_count": null,
   "metadata": {},
   "outputs": [],
   "source": []
  },
  {
   "cell_type": "code",
   "execution_count": null,
   "metadata": {},
   "outputs": [],
   "source": []
  },
  {
   "cell_type": "code",
   "execution_count": null,
   "metadata": {},
   "outputs": [],
   "source": []
  }
 ],
 "metadata": {
  "kernelspec": {
   "display_name": "Python 3",
   "language": "python",
   "name": "python3"
  },
  "language_info": {
   "codemirror_mode": {
    "name": "ipython",
    "version": 3
   },
   "file_extension": ".py",
   "mimetype": "text/x-python",
   "name": "python",
   "nbconvert_exporter": "python",
   "pygments_lexer": "ipython3",
   "version": "3.6.9"
  },
  "toc": {
   "base_numbering": 1,
   "nav_menu": {},
   "number_sections": true,
   "sideBar": true,
   "skip_h1_title": false,
   "title_cell": "Table of Contents",
   "title_sidebar": "Contents",
   "toc_cell": false,
   "toc_position": {},
   "toc_section_display": true,
   "toc_window_display": false
  }
 },
 "nbformat": 4,
 "nbformat_minor": 2
}
