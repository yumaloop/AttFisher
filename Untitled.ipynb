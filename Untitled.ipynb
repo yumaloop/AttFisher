{
 "cells": [
  {
   "cell_type": "code",
   "execution_count": 1,
   "metadata": {},
   "outputs": [
    {
     "name": "stderr",
     "output_type": "stream",
     "text": [
      "Using TensorFlow backend.\n"
     ]
    }
   ],
   "source": [
    "import numpy as np\n",
    "import tensorflow as tf\n",
    "\n",
    "import keras\n",
    "import keras.backend as K\n",
    "\n",
    "import numpy as np\n",
    "import matplotlib.pyplot as plt\n",
    "\n",
    "from keras.layers import Input, Dense, Lambda\n",
    "from keras.models import Model\n",
    "from keras.datasets import mnist\n",
    "\n",
    "from tqdm import tqdm_notebook as tqdm\n",
    "from scipy.stats import norm"
   ]
  },
  {
   "cell_type": "code",
   "execution_count": 2,
   "metadata": {},
   "outputs": [
    {
     "data": {
      "text/plain": [
       "(784, 784)"
      ]
     },
     "execution_count": 2,
     "metadata": {},
     "output_type": "execute_result"
    }
   ],
   "source": [
    "hessian_matrix = np.load(\"./data/fim_cnn_xtest.npy\")\n",
    "hessian_matrix.shape"
   ]
  },
  {
   "cell_type": "code",
   "execution_count": 3,
   "metadata": {},
   "outputs": [
    {
     "name": "stderr",
     "output_type": "stream",
     "text": [
      "/usr/local/lib/python3.6/dist-packages/ipykernel_launcher.py:3: ComplexWarning: Casting complex values to real discards the imaginary part\n",
      "  This is separate from the ipykernel package so we can avoid doing imports until\n",
      "/usr/local/lib/python3.6/dist-packages/ipykernel_launcher.py:4: ComplexWarning: Casting complex values to real discards the imaginary part\n",
      "  after removing the cwd from sys.path.\n"
     ]
    }
   ],
   "source": [
    "eig_values, eig_vectors = np.linalg.eig(hessian_matrix)\n",
    "\n",
    "eig_values = eig_values.astype(np.float32)\n",
    "eig_vectors = eig_vectors.astype(np.float32)\n",
    "\n",
    "for i in range(len(eig_vectors)):\n",
    "    eig_vectors[i] = eig_vectors[i] / np.linalg.norm(eig_vectors[i], ord=2)\n",
    "    \n"
   ]
  },
  {
   "cell_type": "code",
   "execution_count": 6,
   "metadata": {},
   "outputs": [
    {
     "data": {
      "text/plain": [
       "array([-4.33506258e-03, -7.68356677e-03,  3.02602188e-03,  2.67373095e-03,\n",
       "        6.43646519e-04,  4.70814062e-03,  7.30057061e-03,  1.77520514e-02,\n",
       "       -3.76449345e-04, -3.61286133e-04, -2.55492923e-04,  8.48126411e-03,\n",
       "       -6.18272042e-03,  4.06679371e-03,  8.45002825e-04,  7.64047122e-03,\n",
       "        1.59137342e-02,  5.80985378e-03, -3.57799511e-03, -1.02369934e-02,\n",
       "       -1.91455707e-02, -2.73494571e-02,  7.87342340e-03, -5.96835883e-03,\n",
       "        8.95757787e-03, -2.23218985e-02, -8.57765228e-03, -2.28025001e-02,\n",
       "        1.90217502e-03,  2.56210361e-02,  1.93063244e-02, -2.24639513e-02,\n",
       "        1.05150100e-02, -1.84025038e-02,  3.36510222e-03,  1.13810841e-02,\n",
       "        2.02057092e-03,  2.08734479e-02,  1.48383528e-02, -1.31660067e-02,\n",
       "       -1.25748077e-02, -2.42366362e-02, -3.74108297e-03, -1.07372319e-02,\n",
       "        1.74407642e-02,  1.93022247e-02,  2.31601647e-03, -2.72845421e-02,\n",
       "        2.71483716e-02,  8.68324284e-03,  2.76294183e-02,  1.07487934e-02,\n",
       "       -2.44604722e-02,  2.65984368e-02, -3.44547303e-03,  2.89098918e-02,\n",
       "       -9.69955139e-03, -1.55738732e-02, -2.74175461e-02, -2.82341409e-02,\n",
       "       -2.98904628e-02, -3.58860679e-02, -2.29908600e-02,  6.26056455e-03,\n",
       "        3.88000114e-03, -4.79358860e-04,  2.82428158e-03,  2.48641819e-02,\n",
       "        3.42229754e-02, -5.01428023e-02,  2.97248014e-03, -2.35986314e-03,\n",
       "        3.69410813e-02, -3.14184725e-02, -1.33637162e-02, -7.37804407e-03,\n",
       "        2.92847175e-02, -4.00477741e-03,  9.46698710e-03,  1.56416893e-02,\n",
       "       -1.69239547e-02,  3.65217775e-02,  3.60891037e-02,  1.65989436e-02,\n",
       "        2.87204911e-03, -1.56973377e-02,  2.94160452e-02,  1.84429139e-02,\n",
       "       -2.09167302e-02,  1.14704075e-03, -9.03384574e-03, -2.43110806e-02,\n",
       "        8.16261768e-03, -5.82937375e-02,  1.97513849e-02,  5.62314168e-02,\n",
       "       -5.31536387e-03,  7.06382748e-03,  1.66824497e-02,  2.89609786e-02,\n",
       "       -3.05909198e-02, -8.37794505e-03, -7.03474227e-03,  7.68750964e-04,\n",
       "       -3.71202938e-02,  4.94427681e-02,  2.18425933e-02, -4.42001857e-02,\n",
       "        1.60996255e-03, -3.38048935e-02,  5.66790588e-02,  1.14812013e-02,\n",
       "       -2.48787943e-02,  1.32125681e-02, -2.94408258e-02, -1.66590735e-02,\n",
       "        1.40146026e-02,  5.92991663e-03, -2.63989531e-02, -8.31373129e-03,\n",
       "       -4.96113338e-02,  6.35958416e-03, -2.27429084e-02, -3.08501534e-02,\n",
       "        1.71546079e-02, -2.23628301e-02,  2.86750644e-02,  2.36838292e-02,\n",
       "        8.82232469e-03, -1.91279256e-03, -2.50513349e-02,  2.28596423e-02,\n",
       "       -1.57376546e-02, -4.19069938e-02,  9.60053410e-03,  2.88883969e-02,\n",
       "        4.88376319e-02,  4.24034335e-02, -5.29667828e-03, -5.10988617e-03,\n",
       "        1.19315796e-02, -1.57810785e-02,  1.72495041e-02,  2.50799228e-02,\n",
       "       -3.59204458e-03,  3.28948908e-02,  3.28104906e-02, -1.74120571e-02,\n",
       "       -3.14961374e-02,  3.01875081e-02, -1.09703308e-02,  4.53051440e-02,\n",
       "        5.74327260e-02, -7.75722191e-02, -3.26997936e-02,  3.89086604e-02,\n",
       "       -4.75059561e-02,  4.24402095e-02, -1.17044896e-02,  5.40398136e-02,\n",
       "       -9.82209016e-03,  2.26870049e-02, -7.65506085e-03, -1.91416517e-02,\n",
       "       -4.22583632e-02, -2.03007516e-02,  1.40170846e-02, -4.61895159e-03,\n",
       "       -2.15933807e-02, -2.19507085e-04, -1.00402683e-02, -8.37566704e-02,\n",
       "        4.20972146e-03,  5.64371943e-02,  2.85787825e-02,  8.22765380e-03,\n",
       "       -4.65155728e-02, -2.42397822e-02,  6.70889020e-03,  1.29025569e-02,\n",
       "        3.85922752e-02, -2.54968870e-02,  4.94704060e-02,  1.00680031e-02,\n",
       "        2.30324292e-03, -3.97197194e-02, -1.45535208e-02, -3.62823047e-02,\n",
       "       -5.62880374e-02, -6.93102479e-02,  2.87571847e-02,  7.03132749e-02,\n",
       "       -4.66143452e-02,  3.85762975e-02,  2.91235615e-02, -8.19770247e-03,\n",
       "        2.70161293e-02,  1.80619285e-02, -2.45096106e-02,  2.94211339e-02,\n",
       "        6.92806253e-03, -1.50379250e-02,  2.52376422e-02, -4.07339223e-02,\n",
       "       -3.99727784e-02, -1.31533919e-02,  8.18103105e-02,  3.06378817e-03,\n",
       "        3.50003392e-02, -1.28380384e-03, -1.59639947e-03, -1.96229834e-02,\n",
       "       -3.64488387e-03,  2.83334516e-02,  5.11329330e-04, -4.42028195e-02,\n",
       "        3.82314473e-02, -1.25507265e-02,  9.57042910e-03, -1.46490932e-02,\n",
       "       -1.35023601e-03,  7.67011419e-02,  2.70428807e-02, -9.14541259e-03,\n",
       "        8.46731011e-04,  4.32640575e-02, -4.18852968e-03,  3.71601172e-02,\n",
       "        1.93143077e-02,  1.27084963e-02, -7.32001364e-02,  4.15553488e-02,\n",
       "       -2.72357091e-02, -4.50517191e-03,  1.66814569e-02, -3.40802446e-02,\n",
       "       -1.72432885e-02, -5.92242852e-02, -2.38607195e-03, -8.14325437e-02,\n",
       "       -4.36473489e-02, -1.30429049e-03,  2.82783285e-02,  1.55505966e-02,\n",
       "       -4.55477498e-02, -1.98794790e-02,  1.12747759e-04,  1.20053543e-02,\n",
       "       -1.72259994e-02, -2.08208505e-02, -3.27897854e-02,  1.29979104e-02,\n",
       "       -3.91761446e-03, -6.57770485e-02, -2.18228810e-02, -7.98382089e-02,\n",
       "        8.99051428e-02, -2.40668915e-02,  1.98131930e-02, -4.21352498e-02,\n",
       "       -3.71591225e-02, -6.16764510e-03, -6.94506615e-02,  1.65942181e-02,\n",
       "       -6.90774694e-02, -1.67872477e-02,  3.74991558e-02, -6.12657927e-02,\n",
       "        3.99056040e-02,  5.41669643e-03, -2.04816181e-02, -4.70305569e-02,\n",
       "        2.40561273e-02, -4.52424809e-02, -6.91824257e-02,  1.69851147e-02,\n",
       "       -7.83132166e-02, -3.30400281e-02, -4.46402803e-02, -6.40470535e-02,\n",
       "       -7.60295289e-03,  3.17178806e-03,  1.38194477e-02, -2.07432155e-02,\n",
       "        2.07523033e-02, -1.52107673e-02,  3.89390923e-02,  4.56081666e-02,\n",
       "       -1.46613857e-02,  3.24470289e-02,  4.18536104e-02,  4.88328142e-03,\n",
       "       -1.90004986e-02, -1.73286516e-02, -3.38137075e-02,  1.96837373e-02,\n",
       "       -2.23003402e-02, -8.57657567e-02, -1.08335400e-02, -2.29044911e-03,\n",
       "        2.87902113e-02, -5.98979890e-02,  2.99789687e-03,  3.69520821e-02,\n",
       "       -2.98282672e-02, -3.40528204e-03,  1.43782925e-02,  3.28682214e-02,\n",
       "        2.86978576e-03,  5.90657592e-02,  4.05666325e-03, -8.79316311e-03,\n",
       "        1.13845445e-01,  1.40534285e-02,  4.56052125e-02,  1.47003168e-02,\n",
       "        5.38608320e-02,  1.45211248e-02,  1.24067683e-02,  4.57649007e-02,\n",
       "        8.80587380e-03,  6.40593097e-02,  1.31993648e-02,  8.69929790e-02,\n",
       "       -6.58506528e-02, -4.06968109e-02, -8.02577138e-02, -1.87406018e-02,\n",
       "       -2.67253015e-02,  1.88149549e-02, -3.61436754e-02,  2.74470169e-02,\n",
       "        2.73634940e-02, -2.20857877e-02, -3.19682434e-02,  7.47060776e-02,\n",
       "        9.96908471e-02,  3.40143871e-03, -1.26771759e-02,  3.21972445e-02,\n",
       "        4.04006243e-02,  5.05907536e-02,  4.72650155e-02,  5.16360812e-03,\n",
       "        1.29513681e-01, -1.91422328e-02,  1.13896668e-01, -6.83575962e-03,\n",
       "        1.40829524e-02, -1.61519051e-02, -4.49216627e-02,  3.38142663e-02,\n",
       "       -1.11904647e-02, -3.80868651e-02,  1.86388772e-02, -1.87403914e-02,\n",
       "        3.30062993e-02, -2.61324216e-02,  6.58098906e-02, -6.83451593e-02,\n",
       "       -6.95787519e-02, -4.18276526e-02,  4.38094996e-02, -8.54517333e-03,\n",
       "        2.44454704e-02,  3.91590148e-02, -5.36250472e-02, -3.57139781e-02,\n",
       "        1.40684480e-02,  3.48879099e-02, -7.72705451e-02,  2.10520644e-02,\n",
       "        1.45920063e-03,  4.26595509e-02,  2.55631469e-02, -4.07181494e-02,\n",
       "       -4.06739675e-02,  5.13972454e-02, -4.28886749e-02,  7.66184181e-03,\n",
       "       -2.69558951e-02, -2.78033298e-02,  3.05396952e-02, -7.40964711e-02,\n",
       "       -3.85026373e-02,  1.17087178e-02,  1.99254937e-02,  8.47287243e-04,\n",
       "        8.01457986e-02, -5.83471954e-02,  3.50218527e-02,  2.21401509e-02,\n",
       "        8.08375701e-03, -2.69186180e-02,  3.51056792e-02,  6.30462170e-03,\n",
       "        7.08840042e-02,  8.27791286e-04, -3.07779331e-02,  4.69858088e-02,\n",
       "        1.55859822e-02,  4.59398292e-02, -1.46294953e-02,  2.27995906e-02,\n",
       "        5.48970737e-02, -5.25734499e-02, -1.49765788e-02,  2.08033044e-02,\n",
       "        5.00380360e-02, -9.07769427e-02, -5.58973327e-02,  4.72991839e-02,\n",
       "        9.01588798e-02, -9.24675539e-02,  5.41039556e-02,  6.70673773e-02,\n",
       "       -4.98374440e-02, -4.56924401e-02, -4.35229316e-02,  2.96046436e-02,\n",
       "       -1.99226011e-03,  3.87027115e-02,  8.45546275e-03,  1.37026254e-02,\n",
       "        3.87839368e-03,  2.94380821e-02, -1.65132657e-02, -7.21359625e-03,\n",
       "        9.16786306e-03,  8.30765292e-02,  4.82985713e-02, -4.41785948e-03,\n",
       "        4.42878576e-03, -5.25637306e-02,  4.38945740e-02,  7.13870954e-03,\n",
       "        1.73242437e-03, -4.01042476e-02, -7.64059871e-02, -6.95811361e-02,\n",
       "        3.59433889e-02, -1.98703706e-02,  2.55018715e-02, -5.51717877e-02,\n",
       "       -2.75878847e-04,  1.75884587e-03,  1.25854565e-02,  1.70595180e-02,\n",
       "        5.56382760e-02, -1.03964582e-02,  1.41795576e-01,  2.04406567e-02,\n",
       "        3.65405977e-02,  2.63886177e-04, -1.53659238e-02,  1.06161237e-01,\n",
       "       -5.14109135e-02,  1.09408144e-02, -5.24316914e-02,  4.55344543e-02,\n",
       "        3.13580185e-02, -1.54482955e-02, -9.88053810e-03,  9.93759651e-03,\n",
       "       -1.18905259e-02,  1.43340684e-03,  2.33925581e-02,  6.31133020e-02,\n",
       "        2.14186497e-03,  8.35023075e-02, -4.74191792e-02, -8.58520940e-02,\n",
       "        4.22757585e-03,  7.53771141e-02,  1.77833270e-02,  6.58338889e-02,\n",
       "       -5.66141047e-02,  3.76816019e-02, -1.60983414e-03, -1.60983414e-03,\n",
       "        2.99517903e-02,  2.99517903e-02, -5.52379787e-02, -5.76670505e-02,\n",
       "       -5.76670505e-02, -3.22882948e-03, -3.22882948e-03,  2.69440282e-03,\n",
       "        2.69440282e-03, -3.97608755e-03, -3.97608755e-03,  4.42140065e-02,\n",
       "        4.42140065e-02, -3.30536216e-02, -3.30536216e-02, -6.24392508e-03,\n",
       "       -6.24392508e-03, -2.10010000e-02, -2.10010000e-02, -2.08491124e-02,\n",
       "       -2.08491124e-02, -5.50296111e-03, -5.50296111e-03,  2.60466039e-02,\n",
       "        2.60466039e-02, -3.21130715e-02, -3.21130715e-02, -1.21573417e-03,\n",
       "       -1.21573417e-03,  2.74480041e-03,  2.74480041e-03, -3.13795567e-03,\n",
       "       -3.13795567e-03, -4.18456011e-02, -4.18456011e-02, -4.52440344e-02,\n",
       "       -4.52440344e-02,  6.76425695e-02,  6.76425695e-02, -6.47365749e-02,\n",
       "       -6.47365749e-02, -2.88501959e-02, -2.88501959e-02, -8.87594651e-03,\n",
       "       -8.87594651e-03,  7.91200809e-03,  7.91200809e-03, -4.21628207e-02,\n",
       "       -4.21628207e-02,  4.05365266e-02, -2.05840990e-02, -2.05840990e-02,\n",
       "       -4.34255507e-03, -4.34255507e-03, -1.78832784e-02, -1.78832784e-02,\n",
       "        2.43353993e-02,  2.43353993e-02, -2.99878046e-02, -2.99878046e-02,\n",
       "        4.11972776e-02,  4.11972776e-02, -4.46907468e-02, -4.46907468e-02,\n",
       "       -1.79822259e-02, -1.79822259e-02,  2.32902896e-02,  2.32902896e-02,\n",
       "        9.18935984e-03,  9.18935984e-03, -3.30373570e-02, -1.40854437e-03,\n",
       "       -1.40854437e-03, -2.77379490e-02, -2.77379490e-02, -1.06376158e-02,\n",
       "       -1.06376158e-02,  2.35919305e-03,  2.35919305e-03,  2.02404745e-02,\n",
       "        2.02404745e-02, -7.59505341e-03, -7.59505341e-03,  1.94794424e-02,\n",
       "       -1.35806613e-02, -1.35806613e-02,  1.69815086e-02,  1.69815086e-02,\n",
       "        9.20606405e-03,  9.20606405e-03,  2.66706366e-02,  2.66706366e-02,\n",
       "       -4.22473475e-02, -4.22473475e-02, -2.79066209e-02, -2.79066209e-02,\n",
       "       -5.74985109e-02, -5.74985109e-02,  3.06292577e-03,  3.06292577e-03,\n",
       "        2.34701987e-02,  2.34701987e-02, -5.67251146e-02, -3.01298499e-02,\n",
       "       -1.89570535e-03, -1.89570535e-03,  3.38164642e-02,  3.38164642e-02,\n",
       "       -4.11815420e-02, -4.11815420e-02, -6.15471182e-03, -6.15471182e-03,\n",
       "        3.09749693e-02,  3.09749693e-02,  1.53417606e-02,  1.53417606e-02,\n",
       "       -4.87244837e-02, -4.87244837e-02,  3.75720486e-02,  3.75720486e-02,\n",
       "       -1.46717932e-02, -1.46717932e-02,  7.60203972e-03,  7.60203972e-03,\n",
       "        3.21867839e-02,  3.21867839e-02,  4.83697429e-02,  4.83697429e-02,\n",
       "        5.29737920e-02,  5.29737920e-02,  2.26662327e-02,  2.26662327e-02,\n",
       "       -3.96733582e-02, -3.96733582e-02, -1.96562372e-02, -1.96562372e-02,\n",
       "       -3.79930862e-04,  5.01356879e-03,  5.01356879e-03, -2.92739458e-02,\n",
       "       -2.92739458e-02,  3.42291258e-02,  3.42291258e-02,  1.38983699e-02,\n",
       "        1.38983699e-02, -6.68307915e-02, -6.68307915e-02,  1.64087433e-02,\n",
       "        2.04768609e-02,  2.04768609e-02,  1.08284969e-02,  1.08284969e-02,\n",
       "        5.65888435e-02,  5.65888435e-02, -1.00714108e-02, -1.00714108e-02,\n",
       "       -6.92923088e-04, -6.92923088e-04, -8.06037802e-03, -8.06037802e-03,\n",
       "       -3.27719674e-02, -3.27719674e-02, -1.37842791e-02, -1.37842791e-02,\n",
       "        1.72596183e-02,  1.72596183e-02,  2.53145173e-02,  2.53145173e-02,\n",
       "        4.52642553e-02,  4.52642553e-02,  5.46830008e-03,  5.46830008e-03,\n",
       "       -2.26518419e-02, -2.26518419e-02, -1.12559116e-02, -1.12559116e-02,\n",
       "        2.34703199e-04,  2.34703199e-04,  5.38366847e-03,  5.38366847e-03,\n",
       "        3.91628519e-02,  3.91628519e-02,  2.04200158e-03,  2.04200158e-03,\n",
       "        3.29545289e-02, -2.65598763e-03, -2.65598763e-03, -3.11616752e-02,\n",
       "       -3.11616752e-02, -5.86647168e-02, -5.86647168e-02,  3.46393138e-02,\n",
       "        3.46393138e-02, -5.36214076e-02, -5.36214076e-02,  2.52761524e-02,\n",
       "        2.52761524e-02, -2.74803024e-02, -2.74803024e-02,  6.41433150e-02,\n",
       "        6.41433150e-02, -6.19386137e-02, -6.19386137e-02,  5.04162796e-02,\n",
       "        5.04162796e-02, -8.83084908e-03, -8.83084908e-03,  1.04240617e-02,\n",
       "        1.04240617e-02, -1.19105522e-02, -1.19105522e-02, -2.41205152e-02,\n",
       "       -2.41205152e-02, -1.44781768e-02, -1.44781768e-02,  2.78022103e-02,\n",
       "        2.78022103e-02,  2.52962671e-02,  2.52962671e-02,  2.08936576e-02,\n",
       "        2.08936576e-02,  2.33355351e-02,  2.33355351e-02, -7.55061209e-02,\n",
       "       -7.55061209e-02,  5.14604338e-02,  5.14604338e-02, -5.01169451e-02,\n",
       "       -5.01169451e-02,  1.95791572e-02,  1.95791572e-02, -5.43650128e-02,\n",
       "       -5.43650128e-02,  3.68163101e-02, -2.46490445e-02,  4.48317677e-02,\n",
       "        4.48317677e-02,  5.15537448e-02,  5.15537448e-02, -3.33553813e-02,\n",
       "       -3.33553813e-02,  9.78985149e-03,  9.78985149e-03, -6.61536679e-02,\n",
       "       -6.61536679e-02, -1.07153222e-01, -1.07153222e-01, -5.30327577e-03,\n",
       "       -5.30327577e-03, -1.92335006e-02, -1.92335006e-02,  2.44962070e-02,\n",
       "        2.44962070e-02, -4.54072170e-02, -4.54072170e-02, -3.03783156e-02,\n",
       "       -3.03783156e-02, -4.22451124e-02, -4.22451124e-02,  1.42047238e-02,\n",
       "        1.42047238e-02, -3.31537426e-02, -3.31537426e-02,  1.78035460e-02,\n",
       "        1.78035460e-02, -2.07887180e-02, -2.07887180e-02,  4.69249152e-02,\n",
       "        4.69249152e-02,  2.02345718e-02,  2.02345718e-02, -2.56961118e-02,\n",
       "       -2.56961118e-02, -3.66420951e-03, -3.66420951e-03, -2.94655655e-03,\n",
       "       -2.94655655e-03, -4.79409993e-02, -4.79409993e-02, -2.82445941e-02,\n",
       "       -2.82445941e-02,  5.24676889e-02,  5.24676889e-02, -4.54447605e-02,\n",
       "       -4.54447605e-02,  1.61417667e-02,  3.37868258e-02,  3.37868258e-02,\n",
       "       -1.43273668e-02, -1.43273668e-02, -3.14228050e-02, -3.14228050e-02,\n",
       "        2.71868426e-02,  2.71868426e-02,  1.15364259e-02,  1.15364259e-02,\n",
       "       -4.67354320e-02, -4.67354320e-02,  4.96068001e-02,  4.96068001e-02,\n",
       "       -2.69333236e-02, -2.69333236e-02, -7.08120242e-02, -7.15502873e-02],\n",
       "      dtype=float32)"
      ]
     },
     "execution_count": 6,
     "metadata": {},
     "output_type": "execute_result"
    }
   ],
   "source": [
    "eig_vectors[0]"
   ]
  },
  {
   "cell_type": "code",
   "execution_count": 9,
   "metadata": {},
   "outputs": [
    {
     "data": {
      "text/plain": [
       "0.020872591"
      ]
     },
     "execution_count": 9,
     "metadata": {},
     "output_type": "execute_result"
    }
   ],
   "source": [
    "eig_values.max()"
   ]
  },
  {
   "cell_type": "code",
   "execution_count": 11,
   "metadata": {},
   "outputs": [
    {
     "data": {
      "text/plain": [
       "1"
      ]
     },
     "execution_count": 11,
     "metadata": {},
     "output_type": "execute_result"
    }
   ],
   "source": [
    "np.argmax(eig_values)"
   ]
  },
  {
   "cell_type": "code",
   "execution_count": null,
   "metadata": {},
   "outputs": [],
   "source": []
  },
  {
   "cell_type": "code",
   "execution_count": null,
   "metadata": {},
   "outputs": [],
   "source": []
  },
  {
   "cell_type": "code",
   "execution_count": 12,
   "metadata": {},
   "outputs": [
    {
     "data": {
      "image/png": "[encoded data removed]",
      "text/plain": [
       "<Figure size 432x288 with 1 Axes>"
      ]
     },
     "metadata": {
      "needs_background": "light"
     },
     "output_type": "display_data"
    }
   ],
   "source": [
    "plt.imshow(eig_vectors[1].reshape(28,28), \"gray\")\n",
    "plt.show()"
   ]
  },
  {
   "cell_type": "code",
   "execution_count": 13,
   "metadata": {},
   "outputs": [
    {
     "data": {
      "image/png": "[encoded data removed]",
      "text/plain": [
       "<Figure size 432x288 with 1 Axes>"
      ]
     },
     "metadata": {
      "needs_background": "light"
     },
     "output_type": "display_data"
    }
   ],
   "source": [
    "plt.imshow(eig_vectors[1].reshape(28,28))\n",
    "plt.show()"
   ]
  },
  {
   "cell_type": "code",
   "execution_count": null,
   "metadata": {},
   "outputs": [],
   "source": []
  },
  {
   "cell_type": "code",
   "execution_count": null,
   "metadata": {},
   "outputs": [],
   "source": []
  },
  {
   "cell_type": "code",
   "execution_count": null,
   "metadata": {},
   "outputs": [],
   "source": []
  },
  {
   "cell_type": "code",
   "execution_count": null,
   "metadata": {},
   "outputs": [],
   "source": []
  }
 ],
 "metadata": {
  "kernelspec": {
   "display_name": "Python 3",
   "language": "python",
   "name": "python3"
  },
  "language_info": {
   "codemirror_mode": {
    "name": "ipython",
    "version": 3
   },
   "file_extension": ".py",
   "mimetype": "text/x-python",
   "name": "python",
   "nbconvert_exporter": "python",
   "pygments_lexer": "ipython3",
   "version": "3.6.9"
  },
  "toc": {
   "base_numbering": 1,
   "nav_menu": {},
   "number_sections": true,
   "sideBar": true,
   "skip_h1_title": false,
   "title_cell": "Table of Contents",
   "title_sidebar": "Contents",
   "toc_cell": false,
   "toc_position": {},
   "toc_section_display": true,
   "toc_window_display": false
  }
 },
 "nbformat": 4,
 "nbformat_minor": 2
}
